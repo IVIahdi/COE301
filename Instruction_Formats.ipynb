{
 "cells": [
  {
   "cell_type": "code",
   "execution_count": 4,
   "metadata": {},
   "outputs": [],
   "source": [
    "#In Jump type, we only interested in {opcode,immediate}\n",
    "def Jtype(x):\n",
    "    x = '{:032d}'.format(int(x))\n",
    "    d={\n",
    "    \"opcode\":hex(int(x[:6],2)),\n",
    "    \"immediate\":hex(int(x[6:],2))}\n",
    "\n",
    "    print('J-type:')\n",
    "    l = [{i:j[2:].upper()}for i,j in d.items()]\n",
    "    print(l)"
   ]
  },
  {
   "cell_type": "code",
   "execution_count": 5,
   "metadata": {},
   "outputs": [],
   "source": [
    "#In Immedediate type, we only interested in {opcode,rs,rtimmediate}\n",
    "def Itype(x):\n",
    "    x = '{:032d}'.format(int(x))\n",
    "    d ={\n",
    "    \"opcode\":hex(int(x[:6],2)),\n",
    "    \"rs\":hex(int(x[6:11],2)),\n",
    "    \"rt\" : hex(int(x[11:16],2)),\n",
    "    \"immediate\" : hex(int(x[16:],2))\n",
    "    }\n",
    "    print('I-type:')\n",
    "    l = [{i:j[2:].upper()} for i,j in d.items()]\n",
    "    print(l)\n",
    "    print()"
   ]
  },
  {
   "cell_type": "code",
   "execution_count": 6,
   "metadata": {},
   "outputs": [],
   "source": [
    "#In Jump type, we only interested in {opcode,rs,rt,rd,sa,funct}\n",
    "def Rtype(x):\n",
    "    x = '{:032d}'.format(int(x))\n",
    "    d = {\n",
    "    \"opcode\":hex(int(x[:6],2)),\n",
    "    \"rs\":hex(int(x[6:11],2)),\n",
    "    \"rt\":hex(int(x[11:16],2)),\n",
    "    \"rd\":hex(int(x[16:21],2)),\n",
    "    \"sa\":hex(int(x[21:26],2)),\n",
    "    \"funct\":hex(int(x[26:],2))\n",
    "    }\n",
    "    print('R-type:')\n",
    "    l = [{i:j[2:].upper()} for i,j in d.items()]\n",
    "    print(l)\n",
    "    print()"
   ]
  },
  {
   "cell_type": "code",
   "execution_count": 7,
   "metadata": {},
   "outputs": [
    {
     "name": "stdout",
     "output_type": "stream",
     "text": [
      "R-type:\n",
      "[{'opcode': '3'}, {'rs': '1F'}, {'rt': '1F'}, {'rd': '1F'}, {'sa': '1F'}, {'funct': '3D'}]\n",
      "\n",
      "I-type:\n",
      "[{'opcode': '3'}, {'rs': '1F'}, {'rt': '1F'}, {'immediate': 'FFFD'}]\n",
      "\n",
      "J-type:\n",
      "[{'opcode': '3'}, {'immediate': '3FFFFFD'}]\n"
     ]
    }
   ],
   "source": [
    "#Main\n",
    "\n",
    "hexNum = input() #You should enter the hexadecimal number here without 0x at the begging\n",
    "toBin = bin(int(hexNum,16))[2:]\n",
    "Rtype(toBin) #Wil print Register type code\n",
    "Itype(toBin) #Wil print Immediate type code\n",
    "Jtype(toBin) #Wil print Jump type code"
   ]
  }
 ],
 "metadata": {
  "kernelspec": {
   "display_name": "Python 3.9.12 ('base')",
   "language": "python",
   "name": "python3"
  },
  "language_info": {
   "codemirror_mode": {
    "name": "ipython",
    "version": 3
   },
   "file_extension": ".py",
   "mimetype": "text/x-python",
   "name": "python",
   "nbconvert_exporter": "python",
   "pygments_lexer": "ipython3",
   "version": "3.9.12"
  },
  "orig_nbformat": 4,
  "vscode": {
   "interpreter": {
    "hash": "dc07d24e2f18896857f0b2a651fe84ba40ce7b297e58d8804a308c8039f752a6"
   }
  }
 },
 "nbformat": 4,
 "nbformat_minor": 2
}
